{
 "cells": [
  {
   "cell_type": "markdown",
   "metadata": {},
   "source": [
    "Packages:\n",
    "\n",
    "- [NLopt.jl](https://github.com/JuliaOpt/NLopt.jl) Powell's derivative-free algorithms\n",
    "- [Convex.jl](https://github.com/JuliaOpt/Convex.jl) Disciplined convex programming\n",
    "- [GLPK.jl](https://github.com/JuliaOpt/GLPK.jl) Open source linear programming solver"
   ]
  },
  {
   "cell_type": "code",
   "execution_count": 1,
   "metadata": {},
   "outputs": [],
   "source": [
    "using NLopt\n",
    "using Convex\n",
    "using GLPK\n",
    "using Printf\n",
    "using Optim\n",
    "using FiniteDiff"
   ]
  },
  {
   "cell_type": "markdown",
   "metadata": {},
   "source": [
    "# Computing the local visibility of quantum correlations\n",
    "\n",
    "We say that the correlations $P_\\text{AB|ST}(a,b|s,t)$ have a local model if there is a joint distribution $P_{\\text{A}_1,\\text{A}_2,\\text{B}_1,\\text{B}_2}(a_1,a_2,b_1,b_2)$ such that\n",
    "\n",
    "$$ P_\\text{AB|ST}(a,b|s,t) = \\sum_{a_1,a_2,b_1,b_2} \\delta_{a, a_s} \\delta_{b, b_t} P_{\\text{A}_1,\\text{A}_2,\\text{B}_1,\\text{B}_2}(a_1,a_2,b_1,b_2) $$\n",
    "\n",
    "The distribution $P_\\text{AB|ST}$ can be seen as a vector $\\vec{P}_\\text{Q} \\in \\mathbb{R}^{16}$ by a suitable enumeration of coefficients (start by incrementing $a$, then $b$, then $s$, then $t$, as with [column-major order](https://en.wikipedia.org/wiki/Row-_and_column-major_order) used in Julia).\n",
    "\n",
    "We also enumerate the joint distribution $P_{\\text{A}_1,\\text{A}_2,\\text{B}_1,\\text{B}_2}$ as a vector $\\vec{y} \\in \\mathbb{R}^{16}$.\n",
    " \n",
    "Then $\\vec{P}_\\text{Q}$ has a local model if there exists $\\vec{y}$ with $y_i \\ge 0, \\forall i$, and $\\sum_i y_i = 1$, such that\n",
    "\n",
    "$$ \\vec{P}_\\text{Q} = M \\cdot \\vec{y}, $$\n",
    "\n",
    "where the matrix $M$ encodes the relationship between $P_\\text{AB|ST}$ and $P_{\\text{A}_1,\\text{A}_2,\\text{B}_1,\\text{B}_2}$ as described above.\n",
    "\n",
    "A crude but reasonable model of noise in experiments is given by the uniformly random distribution $P_\\text{AB|ST}(a,b|s,t) = 1/4$, i.e. $\\vec{P}_0 = (1, \\ldots, 1)^\\top / 4$.\n",
    "\n",
    "Given quantum correlations described by $\\vec{P}_\\text{Q}$, we define the noisy correlations:\n",
    "\n",
    "$$ \\vec{P}_v = v \\vec{P}_\\text{Q} + (1-v) \\vec{P}_0. $$\n",
    "\n",
    "The *visibility* of correlations is defined as the following maximization problem:\n",
    "\n",
    "$$ v^*(\\vec{P}_\\text{Q}) = \\max_{v \\in \\mathbb{R}, \\vec{y} \\in \\mathbb{R}^{16}} v \\qquad \\text{s.t.} \\qquad v \\vec{P}_\\text{Q} + (1-v) \\vec{P}_0 = M \\vec{y}, \\quad v \\in [0,1], \\quad \\vec{y} \\ge 0, \\quad \\sum_i y_i = 1.$$\n"
   ]
  },
  {
   "cell_type": "code",
   "execution_count": 2,
   "metadata": {},
   "outputs": [
    {
     "data": {
      "text/plain": [
       "visibility (generic function with 1 method)"
      ]
     },
     "execution_count": 2,
     "metadata": {},
     "output_type": "execute_result"
    }
   ],
   "source": [
    "function visibility(P)\n",
    "# a,b,s,t,a1,a2,b1,b2\n",
    "    M = zeros((2,2,2,2,2,2,2,2))\n",
    "    for a = 1:2\n",
    "        for b = 1:2\n",
    "            for s = 1:2\n",
    "                for t = 1:2\n",
    "                    for a1 = 1:2\n",
    "                        for a2 = 1:2\n",
    "                            for b1 = 1:2\n",
    "                                for b2 = 1:2\n",
    "                                    a12 = [a1, a2]\n",
    "                                    b12 = [b1, b2]\n",
    "                                    if a == a12[s] && b == b12[t]\n",
    "                                        M[a,b,s,t,a1,a2,b1,b2] = 1\n",
    "                                    end\n",
    "                                end\n",
    "                            end\n",
    "                        end\n",
    "                    end\n",
    "                end\n",
    "            end\n",
    "        end\n",
    "    end\n",
    "    P = reshape(P, 16)\n",
    "    M = reshape(M, (16, 16))\n",
    "    v = Variable(1);\n",
    "    y = Variable(16);\n",
    "    P0 = ones(16)/4;\n",
    "    constraints = [v >= 0, v <= 1, v*P + (1-v)*P0 == M*y, y >= 0, sum(y) == 1]\n",
    "    problem = Convex.maximize(v, constraints)\n",
    "    solve!(problem, GLPK.Optimizer)\n",
    "    return v.value\n",
    "end"
   ]
  },
  {
   "cell_type": "code",
   "execution_count": 3,
   "metadata": {},
   "outputs": [
    {
     "data": {
      "text/plain": [
       "singlet_proj_prob (generic function with 1 method)"
      ]
     },
     "execution_count": 3,
     "metadata": {},
     "output_type": "execute_result"
    }
   ],
   "source": [
    "function singlet_proj_prob(x::Vector)\n",
    "# variable x(1:4) Alice angles, x(5:8) Bob angles\n",
    "    P = zeros(ComplexF64, (2, 2, 2, 2));\n",
    "    A = zeros(ComplexF64, (2, 2, 2));\n",
    "    B = zeros(ComplexF64, (2, 2, 2));\n",
    "    A[:,1,1] = [ cos(x[1])\n",
    "                 sin(x[1])*exp(1im*x[2])];\n",
    "    A[:,2,1] = [-sin(x[1])\n",
    "                 cos(x[1])*exp(1im*x[2])];\n",
    "    A[:,1,2] = [ cos(x[3])\n",
    "                 sin(x[3])*exp(1im*x[4])];\n",
    "    A[:,2,2] = [-sin(x[3])\n",
    "                 cos(x[3])*exp(1im*x[4])];\n",
    "    B[:,1,1] = [ cos(x[5])\n",
    "                 sin(x[5])*exp(1im*x[6])];\n",
    "    B[:,2,1] = [-sin(x[5])\n",
    "                 cos(x[5])*exp(1im*x[6])];\n",
    "    B[:,1,2] = [ cos(x[7])\n",
    "                 sin(x[7])*exp(1im*x[8])];\n",
    "    B[:,2,2] = [-sin(x[7])\n",
    "                 cos(x[7])*exp(1im*x[8])];\n",
    "    for s = 1:2\n",
    "        for t = 1:2\n",
    "            for a = 1:2\n",
    "                for b = 1:2\n",
    "                    ov = kron(A[:,a,s], B[:,b,t])' * [0; 1; -1; 0]/sqrt(2);\n",
    "                    P[a,b,s,t] = real(conj(ov)*ov);\n",
    "                end\n",
    "            end\n",
    "        end\n",
    "    end\n",
    "    return P\n",
    "end"
   ]
  },
  {
   "cell_type": "code",
   "execution_count": 4,
   "metadata": {},
   "outputs": [
    {
     "data": {
      "text/plain": [
       "0.7071067811865476"
      ]
     },
     "execution_count": 4,
     "metadata": {},
     "output_type": "execute_result"
    }
   ],
   "source": [
    "P = singlet_proj_prob([0.8048392485916049, 2.8093287208324975, 4.9007496908847985, 1.3370237012924213, 1.9788869048686093, 6.314181068258849, 0.44459933293709847, 2.4694786009799614])\n",
    "visibility(P)"
   ]
  },
  {
   "cell_type": "markdown",
   "metadata": {},
   "source": [
    "# Bilevel optimization\n",
    "\n",
    "[General overview](https://en.wikipedia.org/wiki/Bilevel_optimization)\n",
    "\n",
    "We now parameterize $\\vec{P}_\\text{Q}$ using the angles $\\vec{x} \\in \\mathbb{R}^8$, and want to find the measurement angles that lead to the minimal local visibility:\n",
    "\n",
    "$$\\vec{x}^* = \\operatorname{arg} \\min_\\vec{x} v^*(\\vec{P}^{(\\vec{x})}_\\text{Q})$$"
   ]
  },
  {
   "cell_type": "code",
   "execution_count": 5,
   "metadata": {},
   "outputs": [
    {
     "name": "stdout",
     "output_type": "stream",
     "text": [
      "\n",
      "\n",
      "Minimum: 0.707107 in 141 iterations\n",
      "Diff: 1.5E-09\n"
     ]
    }
   ],
   "source": [
    "## Using NL\n",
    "function vis(x::Vector, grad::Vector)\n",
    "   val = visibility(singlet_proj_prob(x))\n",
    "   return val\n",
    "end\n",
    "\n",
    "x0 = rand(8)*2*pi\n",
    "opt = Opt(:LN_BOBYQA, 8)\n",
    "opt.lower_bounds = zeros(8)*1.0\n",
    "opt.upper_bounds = ones(8)*2*pi*1.0\n",
    "opt.min_objective = vis\n",
    "opt.xtol_rel = 1e-4\n",
    "(minf, minx, ret) = NLopt.optimize(opt, x0)\n",
    "@printf(\"\\n\\nMinimum: %f in %d iterations\\n\", minf, opt.numevals)\n",
    "@printf(\"Diff: %0.1E\\n\", abs(minf - 1/sqrt(2)))"
   ]
  },
  {
   "cell_type": "markdown",
   "metadata": {},
   "source": [
    "# Exercices\n",
    "\n",
    "- Run the algorithm a number of times, how many times does it converge to the best maximum?\n",
    "- Scan through the family of states $\\left| \\gamma \\right> = \\cos \\gamma \\left| 01 \\right> + \\sin \\gamma \\left| 10 \\right>$, plot the best visibility for each $\\gamma$."
   ]
  }
 ],
 "metadata": {
  "kernelspec": {
   "display_name": "Julia 1.3.1",
   "language": "julia",
   "name": "julia-1.3"
  },
  "language_info": {
   "file_extension": ".jl",
   "mimetype": "application/julia",
   "name": "julia",
   "version": "1.3.1"
  }
 },
 "nbformat": 4,
 "nbformat_minor": 4
}
