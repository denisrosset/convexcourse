{
 "cells": [
  {
   "cell_type": "markdown",
   "metadata": {},
   "source": [
    "Packages:\n",
    "\n",
    "- [JuMP](https://github.com/JuliaOpt/JuMP.jl) Modeling framework, works with nonconvex problems\n",
    "- [Ipopt](https://github.com/JuliaOpt/Ipopt.jl) Interior point optimizer"
   ]
  },
  {
   "cell_type": "code",
   "execution_count": 2,
   "metadata": {},
   "outputs": [],
   "source": [
    "using JuMP\n",
    "using Ipopt"
   ]
  },
  {
   "cell_type": "markdown",
   "metadata": {},
   "source": [
    "# Same example using JuMP\n",
    "\n",
    "Is there a better way to pass parameters? How to store intermediate expressions? Support for intermediate complex expressions?"
   ]
  },
  {
   "cell_type": "code",
   "execution_count": 3,
   "metadata": {},
   "outputs": [
    {
     "data": {
      "text/plain": [
       "chsh_jump (generic function with 1 method)"
      ]
     },
     "execution_count": 3,
     "metadata": {},
     "output_type": "execute_result"
    }
   ],
   "source": [
    "function chsh_jump(x1,x2,x3,x4)\n",
    "# variable x(1:2) Alice angles, x(3:4) Bob angles\n",
    "    c = 0;\n",
    "    for s = 1:2\n",
    "        if s == 1\n",
    "            alpha = x1;\n",
    "        else\n",
    "            alpha = x2;\n",
    "        end\n",
    "        for a = 1:2\n",
    "           if a == 1\n",
    "                A = [cos(alpha)\n",
    "                     sin(alpha)];\n",
    "            else\n",
    "                A = [-sin(alpha)\n",
    "                     cos(alpha)];\n",
    "            end\n",
    "            for t = 1:2\n",
    "                if t == 1\n",
    "                    beta = x3;\n",
    "                else\n",
    "                    beta = x4;\n",
    "                end\n",
    "                for b = 1:2\n",
    "                    if b == 1\n",
    "                        B = [cos(beta)\n",
    "                             sin(beta)];\n",
    "                    else\n",
    "                        B = [-sin(beta)\n",
    "                             cos(beta)];\n",
    "                    end\n",
    "                    ov = kron(A, B)' * [0; 1; -1; 0]/sqrt(2);\n",
    "                    c = c + (-1)^((a-1)+(b-1)+(s-1)*(t-1))*ov*ov;\n",
    "                end\n",
    "            end\n",
    "        end\n",
    "    end\n",
    "    return c\n",
    "end"
   ]
  },
  {
   "cell_type": "code",
   "execution_count": 4,
   "metadata": {},
   "outputs": [
    {
     "name": "stdout",
     "output_type": "stream",
     "text": [
      "\n",
      "******************************************************************************\n",
      "This program contains Ipopt, a library for large-scale nonlinear optimization.\n",
      " Ipopt is released as open source code under the Eclipse Public License (EPL).\n",
      "         For more information visit http://projects.coin-or.org/Ipopt\n",
      "******************************************************************************\n",
      "\n",
      "This is Ipopt version 3.12.10, running with linear solver mumps.\n",
      "NOTE: Other linear solvers might be more efficient (see Ipopt documentation).\n",
      "\n",
      "Number of nonzeros in equality constraint Jacobian...:        0\n",
      "Number of nonzeros in inequality constraint Jacobian.:        0\n",
      "Number of nonzeros in Lagrangian Hessian.............:        0\n",
      "\n",
      "Total number of variables............................:        4\n",
      "                     variables with only lower bounds:        0\n",
      "                variables with lower and upper bounds:        0\n",
      "                     variables with only upper bounds:        0\n",
      "Total number of equality constraints.................:        0\n",
      "Total number of inequality constraints...............:        0\n",
      "        inequality constraints with only lower bounds:        0\n",
      "   inequality constraints with lower and upper bounds:        0\n",
      "        inequality constraints with only upper bounds:        0\n",
      "\n",
      "iter    objective    inf_pr   inf_du lg(mu)  ||d||  lg(rg) alpha_du alpha_pr  ls\n",
      "   0 -8.0275004e-01 0.00e+00 3.72e+00   0.0 0.00e+00    -  0.00e+00 0.00e+00   0\n",
      "   1 -1.8719617e+00 0.00e+00 1.89e+00 -11.0 3.72e+00    -  1.00e+00 1.00e+00f  1\n",
      "   2 -2.3101831e+00 0.00e+00 1.00e+00 -11.0 6.41e+00    -  1.00e+00 3.12e-02f  6\n",
      "   3 -2.6021499e+00 0.00e+00 1.08e+00 -11.0 1.60e-01    -  1.00e+00 1.00e+00f  1\n",
      "   4 -2.6872713e+00 0.00e+00 1.23e+00 -11.0 6.40e-01    -  1.00e+00 5.00e-01f  2\n",
      "   5 -2.7812780e+00 0.00e+00 6.68e-01 -11.0 1.57e-01    -  1.00e+00 1.00e+00f  1\n",
      "   6 -2.8039378e+00 0.00e+00 4.32e-01 -11.0 1.99e-01    -  1.00e+00 5.00e-01f  2\n",
      "   7 -2.8279340e+00 0.00e+00 6.86e-02 -11.0 7.26e-02    -  1.00e+00 1.00e+00f  1\n",
      "   8 -2.8284023e+00 0.00e+00 1.64e-02 -11.0 5.87e-03    -  1.00e+00 1.00e+00f  1\n",
      "   9 -2.8284271e+00 0.00e+00 3.24e-04 -11.0 2.11e-03    -  1.00e+00 1.00e+00f  1\n",
      "iter    objective    inf_pr   inf_du lg(mu)  ||d||  lg(rg) alpha_du alpha_pr  ls\n",
      "  10 -2.8284271e+00 0.00e+00 1.25e-05 -11.0 5.34e-05    -  1.00e+00 1.00e+00f  1\n",
      "  11 -2.8284271e+00 0.00e+00 1.39e-07 -11.0 1.82e-06    -  1.00e+00 1.00e+00f  1\n",
      "  12 -2.8284271e+00 0.00e+00 1.28e-09 -11.0 1.55e-08    -  1.00e+00 1.00e+00f  1\n",
      "\n",
      "Number of Iterations....: 12\n",
      "\n",
      "                                   (scaled)                 (unscaled)\n",
      "Objective...............:  -2.8284271247461903e+00   -2.8284271247461903e+00\n",
      "Dual infeasibility......:   1.2787445546891263e-09    1.2787445546891263e-09\n",
      "Constraint violation....:   0.0000000000000000e+00    0.0000000000000000e+00\n",
      "Complementarity.........:   0.0000000000000000e+00    0.0000000000000000e+00\n",
      "Overall NLP error.......:   1.2787445546891263e-09    1.2787445546891263e-09\n",
      "\n",
      "\n",
      "Number of objective function evaluations             = 32\n",
      "Number of objective gradient evaluations             = 13\n",
      "Number of equality constraint evaluations            = 0\n",
      "Number of inequality constraint evaluations          = 0\n",
      "Number of equality constraint Jacobian evaluations   = 0\n",
      "Number of inequality constraint Jacobian evaluations = 0\n",
      "Number of Lagrangian Hessian evaluations             = 0\n",
      "Total CPU secs in IPOPT (w/o function evaluations)   =      2.428\n",
      "Total CPU secs in NLP function evaluations           =      0.054\n",
      "\n",
      "EXIT: Optimal Solution Found.\n"
     ]
    }
   ],
   "source": [
    "using JuMP\n",
    "using Ipopt\n",
    "model = Model(Ipopt.Optimizer)\n",
    "JuMP.register(model, :chsh_jump, 4, chsh_jump, autodiff=true)\n",
    "x0 = rand(4)*2*pi\n",
    "@variable(model, x1, start = x0[1])\n",
    "@variable(model, x2, start = x0[2])\n",
    "@variable(model, x3, start = x0[3])\n",
    "@variable(model, x4, start = x0[4])\n",
    "@NLobjective(model, Max, chsh_jump(x1, x2, x3, x4))\n",
    "JuMP.optimize!(model)"
   ]
  }
 ],
 "metadata": {
  "kernelspec": {
   "display_name": "Julia 1.3.1",
   "language": "julia",
   "name": "julia-1.3"
  },
  "language_info": {
   "file_extension": ".jl",
   "mimetype": "application/julia",
   "name": "julia",
   "version": "1.3.1"
  }
 },
 "nbformat": 4,
 "nbformat_minor": 4
}
